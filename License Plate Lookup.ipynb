{
 "cells": [
  {
   "cell_type": "code",
   "execution_count": 1,
   "id": "b5212ed5",
   "metadata": {},
   "outputs": [],
   "source": [
    "from selenium import webdriver\n",
    "from selenium.webdriver.common.keys import Keys\n",
    "from selenium.webdriver.common.action_chains import ActionChains\n",
    "import time\n",
    "from bs4 import BeautifulSoup\n",
    "from PIL import Image\n",
    "import pytesseract\n",
    "import pandas as pd\n",
    "import sys\n",
    "from chromedriver_py import binary_path # this will get you the path variable\n",
    "from selenium.webdriver.support.ui import Select\n",
    "import math\n",
    "import bs4"
   ]
  },
  {
   "cell_type": "code",
   "execution_count": 2,
   "id": "6e23670c",
   "metadata": {},
   "outputs": [],
   "source": [
    "#https://stackoverflow.com/questions/76727774/selenium-webdriver-chrome-115-stopped-working\n",
    "from selenium.webdriver.chrome.service import Service\n",
    "\n",
    "service = Service()\n",
    "options = webdriver.ChromeOptions()\n",
    "driver = webdriver.Chrome(service=service, options=options)\n",
    "driver.close()"
   ]
  },
  {
   "cell_type": "code",
   "execution_count": 10,
   "id": "19baa834",
   "metadata": {},
   "outputs": [],
   "source": [
    "# https://github.com/sinarest1608/Number-plate-search/blob/master/bot.py\n",
    "\n",
    "df = pd.read_excel(\"./Plates.xlsx\")"
   ]
  },
  {
   "cell_type": "code",
   "execution_count": 11,
   "id": "da2914a8",
   "metadata": {},
   "outputs": [
    {
     "data": {
      "text/html": [
       "<div>\n",
       "<style scoped>\n",
       "    .dataframe tbody tr th:only-of-type {\n",
       "        vertical-align: middle;\n",
       "    }\n",
       "\n",
       "    .dataframe tbody tr th {\n",
       "        vertical-align: top;\n",
       "    }\n",
       "\n",
       "    .dataframe thead th {\n",
       "        text-align: right;\n",
       "    }\n",
       "</style>\n",
       "<table border=\"1\" class=\"dataframe\">\n",
       "  <thead>\n",
       "    <tr style=\"text-align: right;\">\n",
       "      <th></th>\n",
       "      <th>Plate number</th>\n",
       "      <th>State where vehicle is registered</th>\n",
       "      <th>Model Year</th>\n",
       "      <th>Make Model</th>\n",
       "    </tr>\n",
       "  </thead>\n",
       "  <tbody>\n",
       "    <tr>\n",
       "      <th>0</th>\n",
       "      <td>4389952</td>\n",
       "      <td>NH</td>\n",
       "      <td>1996.0</td>\n",
       "      <td>Toyota Camry</td>\n",
       "    </tr>\n",
       "    <tr>\n",
       "      <th>1</th>\n",
       "      <td>558 TH1</td>\n",
       "      <td>MA</td>\n",
       "      <td>2005.0</td>\n",
       "      <td>Honda Civic</td>\n",
       "    </tr>\n",
       "    <tr>\n",
       "      <th>2</th>\n",
       "      <td>7SGH10</td>\n",
       "      <td>MA</td>\n",
       "      <td>2009.0</td>\n",
       "      <td>Honda CRV</td>\n",
       "    </tr>\n",
       "    <tr>\n",
       "      <th>3</th>\n",
       "      <td>KA-404</td>\n",
       "      <td>RI</td>\n",
       "      <td>2010.0</td>\n",
       "      <td>Dodge Grand Caravan</td>\n",
       "    </tr>\n",
       "    <tr>\n",
       "      <th>4</th>\n",
       "      <td>676332</td>\n",
       "      <td>RI</td>\n",
       "      <td>2011.0</td>\n",
       "      <td>Honda Accord</td>\n",
       "    </tr>\n",
       "  </tbody>\n",
       "</table>\n",
       "</div>"
      ],
      "text/plain": [
       "  Plate number State where vehicle is registered  Model Year  \\\n",
       "0      4389952                                NH      1996.0   \n",
       "1      558 TH1                                MA      2005.0   \n",
       "2       7SGH10                                MA      2009.0   \n",
       "3       KA-404                                RI      2010.0   \n",
       "4       676332                                RI      2011.0   \n",
       "\n",
       "            Make Model  \n",
       "0         Toyota Camry  \n",
       "1          Honda Civic  \n",
       "2            Honda CRV  \n",
       "3  Dodge Grand Caravan  \n",
       "4         Honda Accord  "
      ]
     },
     "execution_count": 11,
     "metadata": {},
     "output_type": "execute_result"
    }
   ],
   "source": [
    "df.head()"
   ]
  },
  {
   "cell_type": "code",
   "execution_count": 12,
   "id": "8a600553",
   "metadata": {},
   "outputs": [
    {
     "data": {
      "text/plain": [
       "Index(['Plate number', 'State where vehicle is registered', 'Model Year',\n",
       "       'Make Model'],\n",
       "      dtype='object')"
      ]
     },
     "execution_count": 12,
     "metadata": {},
     "output_type": "execute_result"
    }
   ],
   "source": [
    "df.columns"
   ]
  },
  {
   "cell_type": "code",
   "execution_count": 13,
   "id": "f6cd0e83",
   "metadata": {},
   "outputs": [
    {
     "name": "stdout",
     "output_type": "stream",
     "text": [
      "['Plate number', 'State where vehicle is registered', 'Model Year', 'Make Model']\n"
     ]
    }
   ],
   "source": [
    "print(df.columns.tolist()) \n"
   ]
  },
  {
   "cell_type": "code",
   "execution_count": 16,
   "id": "0b886bdc",
   "metadata": {},
   "outputs": [],
   "source": [
    "vehicle1_list = []\n",
    "vehicle1_year_list = []\n",
    "vehicle1 = \"Make Model\""
   ]
  },
  {
   "cell_type": "code",
   "execution_count": null,
   "id": "64741ccc",
   "metadata": {
    "scrolled": true
   },
   "outputs": [
    {
     "name": "stdout",
     "output_type": "stream",
     "text": [
      "0\n",
      "4389952 NH 1996.0\n",
      "1\n",
      "558 TH1 MA 2005.0\n",
      "2\n",
      "7SGH10 MA 2009.0\n",
      "3\n",
      "KA-404 RI 2010.0\n",
      "4\n",
      "676332 RI 2011.0\n",
      "5\n",
      "22P-H21 MA 2013.0\n",
      "6\n",
      "849FA0 MA 2014.0\n",
      "7\n",
      "143 LL7 MA 2015.0\n",
      "8\n",
      "78zn27 MA 2016.0\n",
      "9\n",
      "4GS 617 MA 2016.0\n",
      "10\n",
      "S 856 MA 2016.0\n",
      "11\n",
      "4FN271 MA 2017.0\n",
      "12\n",
      "FW806P MA 2018.0\n",
      "13\n",
      "500-6949 NH 2020.0\n",
      "14\n",
      "1EPW59 MA 2099.0\n",
      "15\n",
      "781-ZD5 MA nan\n",
      "https://www.faxvin.com/license-plate-lookup/result?plate=781-ZD5&state=MA\n"
     ]
    }
   ],
   "source": [
    "for x in range(len(df)):\n",
    "    \n",
    "    print(x)\n",
    "    plate = df['Plate number'][x]\n",
    "    state = df['State where vehicle is registered'][x]\n",
    "    vehicle_year = df['Model Year'][x]\n",
    "    print(plate, state, vehicle_year)\n",
    "    \n",
    "    if math.isnan(vehicle_year):\n",
    "        driver = webdriver.Chrome(service=service, options=options)\n",
    "\n",
    "        url = \"https://www.faxvin.com/license-plate-lookup/result?plate=\" + plate + \"&state=\" + state\n",
    "        print(url)\n",
    "\n",
    "        driver.get(url)\n",
    "\n",
    "        time.sleep(4)\n",
    "        try:\n",
    "            driver.find_element(\"xpath\", \"/html/body/div[1]/div/div[4]/form/div[3]/button\").click()\n",
    "            time.sleep(45)\n",
    "\n",
    "        except:\n",
    "            pass\n",
    "\n",
    "        soup = bs4.BeautifulSoup(driver.page_source, 'html.parser')\n",
    "\n",
    "        # Find all elements with the specified id.\n",
    "        headers = soup.find(\"h1\")\n",
    "        \n",
    "\n",
    "        vehicle1 = headers.text\n",
    "        print(vehicle1)\n",
    "        if vehicle1 == \"Too Many Requests\":\n",
    "            break\n",
    "        vehicle1_list.append(vehicle1)\n",
    "        vehicle1_year_list.append(vehicle1[:4])\n",
    "        \n",
    "        df['Model Year'][x] = int(vehicle1[:4])\n",
    "        df['Make Model'][x] = vehicle1[:4]\n",
    "\n",
    "        driver.close()\n",
    "        \n",
    "    if vehicle1 == \"Too Many Requests\":\n",
    "        break\n"
   ]
  },
  {
   "cell_type": "code",
   "execution_count": null,
   "id": "6271fcb2",
   "metadata": {},
   "outputs": [],
   "source": [
    "df.head()"
   ]
  },
  {
   "cell_type": "code",
   "execution_count": null,
   "id": "2c3045a0",
   "metadata": {},
   "outputs": [],
   "source": [
    "df.to_excel(\"./Plates.xlsx\")"
   ]
  }
 ],
 "metadata": {
  "kernelspec": {
   "display_name": "geo_env",
   "language": "python",
   "name": "geo_env"
  },
  "language_info": {
   "codemirror_mode": {
    "name": "ipython",
    "version": 3
   },
   "file_extension": ".py",
   "mimetype": "text/x-python",
   "name": "python",
   "nbconvert_exporter": "python",
   "pygments_lexer": "ipython3",
   "version": "3.10.4"
  }
 },
 "nbformat": 4,
 "nbformat_minor": 5
}
